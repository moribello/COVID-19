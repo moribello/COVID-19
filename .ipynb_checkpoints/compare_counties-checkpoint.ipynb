{
 "cells": [
  {
   "cell_type": "code",
   "execution_count": 8,
   "metadata": {
    "scrolled": true
   },
   "outputs": [
    {
     "name": "stdout",
     "output_type": "stream",
     "text": [
      "From https://github.com/moribello/COVID-19\r\n",
      " * branch              master     -> FETCH_HEAD\r\n",
      "Already up to date.\r\n"
     ]
    }
   ],
   "source": [
    "import pandas as pd\n",
    "import numpy as np\n",
    "import matplotlib.pyplot as plt\n",
    "from datetime import datetime\n",
    "!git pull origin master"
   ]
  },
  {
   "cell_type": "code",
   "execution_count": 63,
   "metadata": {},
   "outputs": [],
   "source": [
    "def import_data():\n",
    "    \"\"\"Imports data from three different .csv lists. The lists for time_series data is updated automatically via\n",
    "    GitHub so need to be in those specific directories. The state_population file should be in the same directory\n",
    "    as this python file\"\"\"\n",
    "    time_series1 = pd.DataFrame(pd.read_csv(\"csse_covid_19_data/csse_covid_19_time_series/time_series_covid19_confirmed_US.csv\"))\n",
    "    time_series2 = pd.DataFrame(pd.read_csv(\"csse_covid_19_data/csse_covid_19_time_series/time_series_covid19_deaths_US.csv\"))\n",
    "    stpop = pd.DataFrame(pd.read_csv(\"state_population.csv\"))\n",
    "    countpop = pd.DataFrame(pd.read_csv(\"mass_county_pop.csv\"))\n",
    "    return time_series1, countpop"
   ]
  },
  {
   "cell_type": "code",
   "execution_count": 78,
   "metadata": {},
   "outputs": [],
   "source": [
    "def tick_dates(time_series):\n",
    "    \"\"\"Creates tick labels based on start, end, and in between values by finding the start and end \n",
    "    column headers, converting them to date / time, calculating the remaining three quintiles, and converting\n",
    "    these five values to short month and month date. It depends on the 11th column (index place 12) being in a \n",
    "    m/d/yr format.\"\"\"\n",
    "    start_date = datetime.strptime(time_series.columns[12], '%m/%d/%y').date()\n",
    "    tick1 = start_date.strftime(\"%b %d\")\n",
    "    end_date = datetime.strptime(time_series.columns[-1], '%m/%d/%y').date()\n",
    "    tick5 = end_date.strftime(\"%b %d\")\n",
    "    mid_date = start_date + (end_date - start_date)/2\n",
    "    tick3 = mid_date.strftime(\"%b %d\")\n",
    "    tick2 = (start_date + (mid_date - start_date)/2).strftime(\"%b %d\")\n",
    "    tick4 = (mid_date + (end_date - mid_date)/2).strftime(\"%b %d\")\n",
    "    return (tick1, tick2, tick3, tick4, tick5)"
   ]
  },
  {
   "cell_type": "code",
   "execution_count": 57,
   "metadata": {
    "scrolled": true
   },
   "outputs": [
    {
     "name": "stdout",
     "output_type": "stream",
     "text": [
      "There are 17 counties in Massachusetts\n",
      "1222             Barnstable\n",
      "1223              Berkshire\n",
      "1224                Bristol\n",
      "1225                  Dukes\n",
      "1226                  Essex\n",
      "1227               Franklin\n",
      "1228                Hampden\n",
      "1229              Hampshire\n",
      "1230              Middlesex\n",
      "1231              Nantucket\n",
      "1232                Norfolk\n",
      "1233               Plymouth\n",
      "1234                Suffolk\n",
      "1235              Worcester\n",
      "3147    Dukes and Nantucket\n",
      "3170              Out of MA\n",
      "3222             Unassigned\n",
      "Name: Admin2, dtype: object\n"
     ]
    }
   ],
   "source": [
    "time_series1 = import_data()\n",
    "Massachusetts = time_series1[time_series1['Province_State'] == 'Massachusetts']\n",
    "counties = Massachusetts.Admin2\n",
    "numcounties = len(Massachusetts.Admin2)\n",
    "print(\"There are {} counties in Massachusetts\".format(numcounties))\n",
    "print(counties)"
   ]
  },
  {
   "cell_type": "code",
   "execution_count": 176,
   "metadata": {},
   "outputs": [
    {
     "data": {
      "text/html": [
       "<div>\n",
       "<style scoped>\n",
       "    .dataframe tbody tr th:only-of-type {\n",
       "        vertical-align: middle;\n",
       "    }\n",
       "\n",
       "    .dataframe tbody tr th {\n",
       "        vertical-align: top;\n",
       "    }\n",
       "\n",
       "    .dataframe thead th {\n",
       "        text-align: right;\n",
       "    }\n",
       "</style>\n",
       "<table border=\"1\" class=\"dataframe\">\n",
       "  <thead>\n",
       "    <tr style=\"text-align: right;\">\n",
       "      <th></th>\n",
       "      <th>County</th>\n",
       "      <th>Population</th>\n",
       "      <th>Mileage</th>\n",
       "    </tr>\n",
       "  </thead>\n",
       "  <tbody>\n",
       "  </tbody>\n",
       "</table>\n",
       "</div>"
      ],
      "text/plain": [
       "Empty DataFrame\n",
       "Columns: [County, Population, Mileage]\n",
       "Index: []"
      ]
     },
     "execution_count": 176,
     "metadata": {},
     "output_type": "execute_result"
    }
   ],
   "source": [
    "countpop = pd.DataFrame(pd.read_csv(\"mass_county_pop.csv\"))\n",
    "pop = countpop.loc[countpop['County'] == 'Dukes']\n",
    "pop"
   ]
  },
  {
   "cell_type": "code",
   "execution_count": 145,
   "metadata": {},
   "outputs": [],
   "source": [
    "def plot_ma_counties(time_series1, countpop):\n",
    "    \"\"\"Creates a comparison of each county in Massachusett \n",
    "    tick data on the x axis is created via the tick_dates() function. \"\"\"\n",
    "    (tick1, tick2, tick3, tick4, tick5) = tick_dates(time_series1)\n",
    "    countpop = pd.DataFrame(pd.read_csv(\"mass_county_pop.csv\"))\n",
    "    x = (countpop[countpop.County == 'Barnstable']).values('Population')\n",
    "    print(x)\n",
    "    county1 = time_series1[(time_series1['Province_State'] == 'Massachusetts') & (time_series1['Admin2'] == 'Barnstable')].sum().values[12:] \n",
    "#    county1 = time_series1[(time_series1['Province_State'] == 'Massachusetts') & (time_series1['Admin2'] == 'Barnstable')].sum().values[12:] / (countpop[countpop['Population'] == 'Barnstable'].values[0])[2]\n",
    "    plt.plot(county1, color = 'skyblue', label = 'Barnstable')\n",
    "    plt.grid()\n",
    "    plt.title(\"Confirmed COVID-19 Cases by Massachusetts county\")\n",
    "    plt.legend()\n",
    "    plt.xticks([0, 25, 50, 75, 100], [tick1, tick2, tick3, tick4, tick5]);"
   ]
  },
  {
   "cell_type": "code",
   "execution_count": 146,
   "metadata": {},
   "outputs": [],
   "source": [
    "def main():\n",
    "    time_series1, countpop = import_data()\n",
    "    plot_ma_counties(time_series1, countpop)"
   ]
  },
  {
   "cell_type": "code",
   "execution_count": 147,
   "metadata": {},
   "outputs": [
    {
     "ename": "TypeError",
     "evalue": "'numpy.ndarray' object is not callable",
     "output_type": "error",
     "traceback": [
      "\u001b[0;31m---------------------------------------------------------------------------\u001b[0m",
      "\u001b[0;31mTypeError\u001b[0m                                 Traceback (most recent call last)",
      "\u001b[0;32m<ipython-input-147-972361fa1b80>\u001b[0m in \u001b[0;36m<module>\u001b[0;34m\u001b[0m\n\u001b[1;32m      1\u001b[0m \u001b[0;32mif\u001b[0m \u001b[0m__name__\u001b[0m \u001b[0;34m==\u001b[0m \u001b[0;34m\"__main__\"\u001b[0m\u001b[0;34m:\u001b[0m\u001b[0;34m\u001b[0m\u001b[0;34m\u001b[0m\u001b[0m\n\u001b[0;32m----> 2\u001b[0;31m     \u001b[0mmain\u001b[0m\u001b[0;34m(\u001b[0m\u001b[0;34m)\u001b[0m\u001b[0;34m\u001b[0m\u001b[0;34m\u001b[0m\u001b[0m\n\u001b[0m",
      "\u001b[0;32m<ipython-input-146-004cf790fa95>\u001b[0m in \u001b[0;36mmain\u001b[0;34m()\u001b[0m\n\u001b[1;32m      1\u001b[0m \u001b[0;32mdef\u001b[0m \u001b[0mmain\u001b[0m\u001b[0;34m(\u001b[0m\u001b[0;34m)\u001b[0m\u001b[0;34m:\u001b[0m\u001b[0;34m\u001b[0m\u001b[0;34m\u001b[0m\u001b[0m\n\u001b[1;32m      2\u001b[0m     \u001b[0mtime_series1\u001b[0m\u001b[0;34m,\u001b[0m \u001b[0mcountpop\u001b[0m \u001b[0;34m=\u001b[0m \u001b[0mimport_data\u001b[0m\u001b[0;34m(\u001b[0m\u001b[0;34m)\u001b[0m\u001b[0;34m\u001b[0m\u001b[0;34m\u001b[0m\u001b[0m\n\u001b[0;32m----> 3\u001b[0;31m     \u001b[0mplot_ma_counties\u001b[0m\u001b[0;34m(\u001b[0m\u001b[0mtime_series1\u001b[0m\u001b[0;34m,\u001b[0m \u001b[0mcountpop\u001b[0m\u001b[0;34m)\u001b[0m\u001b[0;34m\u001b[0m\u001b[0;34m\u001b[0m\u001b[0m\n\u001b[0m",
      "\u001b[0;32m<ipython-input-145-30c107186bc2>\u001b[0m in \u001b[0;36mplot_ma_counties\u001b[0;34m(time_series1, countpop)\u001b[0m\n\u001b[1;32m      4\u001b[0m     \u001b[0;34m(\u001b[0m\u001b[0mtick1\u001b[0m\u001b[0;34m,\u001b[0m \u001b[0mtick2\u001b[0m\u001b[0;34m,\u001b[0m \u001b[0mtick3\u001b[0m\u001b[0;34m,\u001b[0m \u001b[0mtick4\u001b[0m\u001b[0;34m,\u001b[0m \u001b[0mtick5\u001b[0m\u001b[0;34m)\u001b[0m \u001b[0;34m=\u001b[0m \u001b[0mtick_dates\u001b[0m\u001b[0;34m(\u001b[0m\u001b[0mtime_series1\u001b[0m\u001b[0;34m)\u001b[0m\u001b[0;34m\u001b[0m\u001b[0;34m\u001b[0m\u001b[0m\n\u001b[1;32m      5\u001b[0m     \u001b[0mcountpop\u001b[0m \u001b[0;34m=\u001b[0m \u001b[0mpd\u001b[0m\u001b[0;34m.\u001b[0m\u001b[0mDataFrame\u001b[0m\u001b[0;34m(\u001b[0m\u001b[0mpd\u001b[0m\u001b[0;34m.\u001b[0m\u001b[0mread_csv\u001b[0m\u001b[0;34m(\u001b[0m\u001b[0;34m\"mass_county_pop.csv\"\u001b[0m\u001b[0;34m)\u001b[0m\u001b[0;34m)\u001b[0m\u001b[0;34m\u001b[0m\u001b[0;34m\u001b[0m\u001b[0m\n\u001b[0;32m----> 6\u001b[0;31m     \u001b[0mx\u001b[0m \u001b[0;34m=\u001b[0m \u001b[0;34m(\u001b[0m\u001b[0mcountpop\u001b[0m\u001b[0;34m[\u001b[0m\u001b[0mcountpop\u001b[0m\u001b[0;34m.\u001b[0m\u001b[0mCounty\u001b[0m \u001b[0;34m==\u001b[0m \u001b[0;34m'Barnstable'\u001b[0m\u001b[0;34m]\u001b[0m\u001b[0;34m)\u001b[0m\u001b[0;34m.\u001b[0m\u001b[0mvalues\u001b[0m\u001b[0;34m(\u001b[0m\u001b[0;34m'Population'\u001b[0m\u001b[0;34m)\u001b[0m\u001b[0;34m\u001b[0m\u001b[0;34m\u001b[0m\u001b[0m\n\u001b[0m\u001b[1;32m      7\u001b[0m     \u001b[0mprint\u001b[0m\u001b[0;34m(\u001b[0m\u001b[0mx\u001b[0m\u001b[0;34m)\u001b[0m\u001b[0;34m\u001b[0m\u001b[0;34m\u001b[0m\u001b[0m\n\u001b[1;32m      8\u001b[0m     \u001b[0mcounty1\u001b[0m \u001b[0;34m=\u001b[0m \u001b[0mtime_series1\u001b[0m\u001b[0;34m[\u001b[0m\u001b[0;34m(\u001b[0m\u001b[0mtime_series1\u001b[0m\u001b[0;34m[\u001b[0m\u001b[0;34m'Province_State'\u001b[0m\u001b[0;34m]\u001b[0m \u001b[0;34m==\u001b[0m \u001b[0;34m'Massachusetts'\u001b[0m\u001b[0;34m)\u001b[0m \u001b[0;34m&\u001b[0m \u001b[0;34m(\u001b[0m\u001b[0mtime_series1\u001b[0m\u001b[0;34m[\u001b[0m\u001b[0;34m'Admin2'\u001b[0m\u001b[0;34m]\u001b[0m \u001b[0;34m==\u001b[0m \u001b[0;34m'Barnstable'\u001b[0m\u001b[0;34m)\u001b[0m\u001b[0;34m]\u001b[0m\u001b[0;34m.\u001b[0m\u001b[0msum\u001b[0m\u001b[0;34m(\u001b[0m\u001b[0;34m)\u001b[0m\u001b[0;34m.\u001b[0m\u001b[0mvalues\u001b[0m\u001b[0;34m[\u001b[0m\u001b[0;36m12\u001b[0m\u001b[0;34m:\u001b[0m\u001b[0;34m]\u001b[0m\u001b[0;34m\u001b[0m\u001b[0;34m\u001b[0m\u001b[0m\n",
      "\u001b[0;31mTypeError\u001b[0m: 'numpy.ndarray' object is not callable"
     ]
    }
   ],
   "source": [
    "if __name__ == \"__main__\":\n",
    "    main()"
   ]
  },
  {
   "cell_type": "code",
   "execution_count": null,
   "metadata": {},
   "outputs": [],
   "source": []
  }
 ],
 "metadata": {
  "kernelspec": {
   "display_name": "Python 3",
   "language": "python",
   "name": "python3"
  },
  "language_info": {
   "codemirror_mode": {
    "name": "ipython",
    "version": 3
   },
   "file_extension": ".py",
   "mimetype": "text/x-python",
   "name": "python",
   "nbconvert_exporter": "python",
   "pygments_lexer": "ipython3",
   "version": "3.7.6"
  }
 },
 "nbformat": 4,
 "nbformat_minor": 4
}
